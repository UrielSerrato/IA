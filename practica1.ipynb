{
  "cells": [
    {
      "cell_type": "markdown",
      "metadata": {
        "id": "view-in-github",
        "colab_type": "text"
      },
      "source": [
        "<a href=\"https://colab.research.google.com/github/UrielSerrato/IA/blob/main/practica1.ipynb\" target=\"_parent\"><img src=\"https://colab.research.google.com/assets/colab-badge.svg\" alt=\"Open In Colab\"/></a>"
      ]
    },
    {
      "cell_type": "markdown",
      "source": [
        "# Practica 1"
      ],
      "metadata": {
        "id": "5ciXzWvTuu72"
      }
    },
    {
      "cell_type": "markdown",
      "source": [
        "## Ejercicio Python"
      ],
      "metadata": {
        "id": "fRHHbOeuvW8y"
      }
    },
    {
      "cell_type": "code",
      "source": [
        "a=5\n",
        "b=7\n",
        "resultado=a+b\n",
        "\n",
        "print(resultado)"
      ],
      "metadata": {
        "id": "SUrY7u9nvaAT",
        "outputId": "c100e6fb-19ea-42fa-fde6-bf23d11b6c1b",
        "colab": {
          "base_uri": "https://localhost:8080/"
        }
      },
      "execution_count": 1,
      "outputs": [
        {
          "output_type": "stream",
          "name": "stdout",
          "text": [
            "12\n"
          ]
        }
      ]
    },
    {
      "cell_type": "markdown",
      "source": [
        "Ejemplo de función"
      ],
      "metadata": {
        "id": "zk34Qix1vgw8"
      }
    },
    {
      "cell_type": "code",
      "source": [
        "def suma(a,b):\n",
        "  resultado =a + b\n",
        "  return resultado\n",
        "\n",
        "print(suma(1,2))"
      ],
      "metadata": {
        "id": "kmuS9Jmovjjv"
      },
      "execution_count": null,
      "outputs": []
    },
    {
      "cell_type": "markdown",
      "source": [],
      "metadata": {
        "id": "Lms3vCp5vejU"
      }
    }
  ],
  "metadata": {
    "colab": {
      "name": "Te damos la bienvenida a Colaboratory",
      "toc_visible": true,
      "provenance": [],
      "include_colab_link": true
    },
    "kernelspec": {
      "display_name": "Python 3",
      "name": "python3"
    }
  },
  "nbformat": 4,
  "nbformat_minor": 0
}